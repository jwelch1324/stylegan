{
 "cells": [
  {
   "cell_type": "code",
   "execution_count": 61,
   "metadata": {},
   "outputs": [],
   "source": [
    "import os\n",
    "import sys\n",
    "import subprocess\n",
    "import glob\n",
    "import argparse\n",
    "import shutil\n",
    "from tqdm import tqdm"
   ]
  },
  {
   "cell_type": "code",
   "execution_count": 62,
   "metadata": {},
   "outputs": [],
   "source": [
    "#parser = argparse.ArgumentParser(description='Archive Old Model Checkpoints')\n",
    "#parser.add_argument('source_dir',metavar='source',type=str,help='Path to the Model Checkpoint Directory')\n",
    "#parser.add_argument('target_dir',metavar='target',type=str,help='Path to the directory where the files will be moved')"
   ]
  },
  {
   "cell_type": "code",
   "execution_count": 63,
   "metadata": {},
   "outputs": [],
   "source": [
    "config = {'outdir':'/home/jwelch/Code/menrva/notebooks/ArtGAN_1'}"
   ]
  },
  {
   "cell_type": "code",
   "execution_count": 69,
   "metadata": {},
   "outputs": [],
   "source": [
    "mfiles = glob.glob(config['outdir']+\"/model*\")"
   ]
  },
  {
   "cell_type": "code",
   "execution_count": 70,
   "metadata": {},
   "outputs": [],
   "source": [
    "#mfile, trained_epoch, trained_step = sorted(list(map(lambda x: (x[0],int(x[1][-2]),int(x[1][-1].split('.')[0])), map(lambda x: (x,x.split('_')),mfiles))),key=lambda x: (x[1],x[2]))[::-1][10]"
   ]
  },
  {
   "cell_type": "code",
   "execution_count": 71,
   "metadata": {},
   "outputs": [],
   "source": [
    "files_to_move = list(map(lambda x: (x[1],x[2]),sorted(list(map(lambda x: (x[0],int(x[1][-2]),int(x[1][-1].split('.')[0])), map(lambda x: (x,x.split('_')),mfiles))),key=lambda x: (x[1],x[2]))[::-1][2:]))"
   ]
  },
  {
   "cell_type": "code",
   "execution_count": 72,
   "metadata": {},
   "outputs": [],
   "source": [
    "files = []\n",
    "for f in files_to_move:\n",
    "    files.append(config['outdir']+f\"/model_weights_{f[0]}_{f[1]}.pkl\")\n",
    "    #files.append(config['outdir']+f\"/fake_{f[0]}_{f[1]}.pkl\")\n",
    "    "
   ]
  },
  {
   "cell_type": "code",
   "execution_count": 73,
   "metadata": {},
   "outputs": [
    {
     "name": "stdout",
     "output_type": "stream",
     "text": [
      "['ArtGAN_1/model_weights_790_0.pkl', 'ArtGAN_1/model_weights_789_0.pkl', 'ArtGAN_1/model_weights_788_0.pkl', 'ArtGAN_1/model_weights_787_0.pkl', 'ArtGAN_1/model_weights_786_0.pkl', 'ArtGAN_1/model_weights_785_0.pkl']\n"
     ]
    }
   ],
   "source": [
    "print(files)"
   ]
  },
  {
   "cell_type": "code",
   "execution_count": 59,
   "metadata": {},
   "outputs": [],
   "source": [
    "if not os.path.isdir('/data/cold_storage/ArtGAN_1'):\n",
    "    os.makedirs('/data/cold_storage/ArtGAN_1')"
   ]
  },
  {
   "cell_type": "code",
   "execution_count": 60,
   "metadata": {},
   "outputs": [
    {
     "name": "stderr",
     "output_type": "stream",
     "text": [
      "100%|██████████| 168/168 [15:14<00:00,  5.45s/it]\n"
     ]
    }
   ],
   "source": [
    "for f in tqdm(files):\n",
    "    shutil.move(f,os.path.join('/data/cold_storage/ArtGAN_1/',os.path.basename(f)))"
   ]
  },
  {
   "cell_type": "code",
   "execution_count": null,
   "metadata": {},
   "outputs": [],
   "source": []
  }
 ],
 "metadata": {
  "kernelspec": {
   "display_name": "Python 3",
   "language": "python",
   "name": "python3"
  },
  "language_info": {
   "codemirror_mode": {
    "name": "ipython",
    "version": 3
   },
   "file_extension": ".py",
   "mimetype": "text/x-python",
   "name": "python",
   "nbconvert_exporter": "python",
   "pygments_lexer": "ipython3",
   "version": "3.7.5"
  }
 },
 "nbformat": 4,
 "nbformat_minor": 4
}
